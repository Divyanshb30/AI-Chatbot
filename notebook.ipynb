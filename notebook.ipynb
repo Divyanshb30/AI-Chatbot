{
 "cells": [
  {
   "cell_type": "code",
   "execution_count": 2,
   "id": "f95ce099",
   "metadata": {},
   "outputs": [],
   "source": [
    "import os\n",
    "from dotenv import load_dotenv\n",
    "from openai import OpenAI\n",
    "import gradio as gr"
   ]
  },
  {
   "cell_type": "code",
   "execution_count": 4,
   "id": "2fcea4fe",
   "metadata": {},
   "outputs": [],
   "source": [
    "load_dotenv(override=True)\n",
    "openai = OpenAI()\n",
    "MODEL = \"gpt-4o-mini\""
   ]
  },
  {
   "cell_type": "code",
   "execution_count": 5,
   "id": "a956071c",
   "metadata": {},
   "outputs": [],
   "source": [
    "system_message = \"You are a helpful assistant\""
   ]
  },
  {
   "cell_type": "code",
   "execution_count": 11,
   "id": "6995b7f6",
   "metadata": {},
   "outputs": [],
   "source": [
    "def chat(message, history):\n",
    "    messages = [{\"role\":\"system\",\"content\":system_message}] + history + [{\"role\":\"user\", \"content\":message}]\n",
    "    print(\"History is:\")\n",
    "    print(history)\n",
    "    print(\"And messages is:\")\n",
    "    print(message)\n",
    "\n",
    "    stream = openai.chat.completions.create(model=MODEL, messages=messages, stream=True)\n",
    "    response=\"\"\n",
    "    for chunk in stream:\n",
    "        response += chunk.choices[0].delta.content or \"\"\n",
    "        yield response"
   ]
  },
  {
   "cell_type": "code",
   "execution_count": null,
   "id": "9b27a88b",
   "metadata": {},
   "outputs": [
    {
     "name": "stdout",
     "output_type": "stream",
     "text": [
      "* Running on local URL:  http://127.0.0.1:7875\n",
      "* To create a public link, set `share=True` in `launch()`.\n"
     ]
    },
    {
     "data": {
      "text/html": [
       "<div><iframe src=\"http://127.0.0.1:7875/\" width=\"100%\" height=\"500\" allow=\"autoplay; camera; microphone; clipboard-read; clipboard-write;\" frameborder=\"0\" allowfullscreen></iframe></div>"
      ],
      "text/plain": [
       "<IPython.core.display.HTML object>"
      ]
     },
     "metadata": {},
     "output_type": "display_data"
    },
    {
     "data": {
      "text/plain": []
     },
     "execution_count": 12,
     "metadata": {},
     "output_type": "execute_result"
    },
    {
     "name": "stdout",
     "output_type": "stream",
     "text": [
      "History is:\n",
      "[]\n",
      "And messages is:\n",
      "hi\n",
      "History is:\n",
      "[]\n",
      "And messages is:\n",
      "hi\n",
      "History is:\n",
      "[{'role': 'user', 'metadata': None, 'content': 'hi', 'options': None}, {'role': 'assistant', 'metadata': None, 'content': 'Hello! How can I assist you today?', 'options': None}]\n",
      "And messages is:\n",
      "tell me five random facts\n",
      "History is:\n",
      "[{'role': 'user', 'metadata': None, 'content': 'hi', 'options': None}, {'role': 'assistant', 'metadata': None, 'content': 'Hello! How can I assist you today?', 'options': None}, {'role': 'user', 'metadata': None, 'content': 'tell me five random facts', 'options': None}, {'role': 'assistant', 'metadata': None, 'content': 'Sure! Here are five random facts:\\n\\n1. **Bananas are berries, but strawberries aren\\'t.** Botanically speaking, bananas qualify as berries because they develop from a single flower with one ovary and have seeds inside. In contrast, strawberries are considered \"aggregate fruits\" because they form from a flower with multiple ovaries.\\n\\n2. **Honey never spoils.** Archaeologists have found pots of honey in ancient Egyptian tombs that are over 3,000 years old and still perfectly edible. Honey’s natural composition makes it resistant to bacteria and spoilage.\\n\\n3. **Oxford University is older than the Aztec Empire.** Teaching at Oxford began as early as 1096, while the Aztec Empire is generally considered to have been founded in 1428. This makes Oxford one of the oldest universities in the world.\\n\\n4. **A group of flamingos is called a \"flamboyance.\"** This term captures the striking and vivid colors of these birds when they gather together in large, colorful groups.\\n\\n5. **Octopuses have three hearts.** Two hearts pump blood to the gills, where it gets oxygenated, while the third heart pumps the oxygenated blood to the rest of the body. Interestingly, when an octopus swims, the heart that delivers blood to the body stops beating.\\n\\nIf you’d like to know more about any of these facts or need anything else, just let me know!', 'options': None}]\n",
      "And messages is:\n",
      "tell me some hilarious random facts\n"
     ]
    }
   ],
   "source": [
    "# Implementing Gradio Interface\n",
    "gr.ChatInterface(fn=chat,type='messages').launch()"
   ]
  },
  {
   "cell_type": "code",
   "execution_count": null,
   "id": "57f9098b",
   "metadata": {},
   "outputs": [],
   "source": []
  }
 ],
 "metadata": {
  "kernelspec": {
   "display_name": "llms",
   "language": "python",
   "name": "python3"
  },
  "language_info": {
   "codemirror_mode": {
    "name": "ipython",
    "version": 3
   },
   "file_extension": ".py",
   "mimetype": "text/x-python",
   "name": "python",
   "nbconvert_exporter": "python",
   "pygments_lexer": "ipython3",
   "version": "3.11.13"
  }
 },
 "nbformat": 4,
 "nbformat_minor": 5
}
